{
  "cells": [
    {
      "attachments": {},
      "cell_type": "markdown",
      "metadata": {},
      "source": [
        "# VGG16"
      ]
    },
    {
      "cell_type": "code",
      "execution_count": null,
      "metadata": {
        "id": "TSvFUZDl3Bdy"
      },
      "outputs": [],
      "source": [
        "import tensorflow as tf\n",
        "\n",
        "from tensorflow.keras import datasets, layers, models\n",
        "import matplotlib.pyplot as plt"
      ]
    },
    {
      "cell_type": "code",
      "execution_count": null,
      "metadata": {
        "id": "wnJ-FsnF3Bd0"
      },
      "outputs": [],
      "source": [
        "(train_images, train_labels), (test_images, test_labels) = datasets.cifar10.load_data()\n",
        "\n",
        "# Normalize pixel values to be between 0 and 1\n",
        "train_images, test_images = train_images / 255.0, test_images / 255.0"
      ]
    },
    {
      "attachments": {},
      "cell_type": "markdown",
      "metadata": {},
      "source": [
        "VGG16 is a convolutional neural network that is 16 layers deep. \n",
        "\n",
        "You can load a pretrained version of the network trained on more than a million images from the ImageNet database. \n",
        "\n",
        "The pretrained network can classify images into 1000 object categories, such as keyboard, mouse, pencil, and many animals.\n",
        "\n",
        "## Important part of VGG16\n",
        "\n",
        "1. 3x3 Convolutional layer\n",
        "2. 2x2 Max Pooling layer\n",
        "3. Fully connected layer\n",
        "4. Softmax layer"
      ]
    },
    {
      "cell_type": "code",
      "execution_count": null,
      "metadata": {
        "colab": {
          "base_uri": "https://localhost:8080/"
        },
        "id": "kMrowJ3q3Bd0",
        "outputId": "20653a0c-5430-4993-e9a1-0e8583834f29"
      },
      "outputs": [],
      "source": [
        "model = models.Sequential()\n",
        "model.add(layers.Conv2D(64, (3, 3), activation='relu', padding='same', input_shape=(32, 32, 3)))\n",
        "model.add(layers.Conv2D(64, (3, 3), activation='relu', padding='same'))\n",
        "model.add(layers.MaxPooling2D((2, 2), strides=(2,2)))\n",
        "model.add(layers.Conv2D(128, (3, 3), activation='relu', padding='same'))\n",
        "model.add(layers.Conv2D(128, (3, 3), activation='relu', padding='same'))\n",
        "model.add(layers.MaxPooling2D((2, 2), strides=(2,2)))\n",
        "model.add(layers.Conv2D(256, (3, 3), activation='relu', padding='same'))\n",
        "model.add(layers.Conv2D(256, (3, 3), activation='relu', padding='same'))\n",
        "model.add(layers.Conv2D(256, (3, 3), activation='relu', padding='same'))\n",
        "model.add(layers.MaxPooling2D((2, 2), strides=(2,2)))\n",
        "model.add(layers.Conv2D(512, (3, 3), activation='relu', padding='same'))\n",
        "model.add(layers.Conv2D(512, (3, 3), activation='relu', padding='same'))\n",
        "model.add(layers.Conv2D(512, (3, 3), activation='relu', padding='same'))\n",
        "model.add(layers.MaxPooling2D((2, 2), strides=(2,2)))\n",
        "model.add(layers.Conv2D(512, (3, 3), activation='relu', padding='same'))\n",
        "model.add(layers.Conv2D(512, (3, 3), activation='relu', padding='same'))\n",
        "model.add(layers.Conv2D(512, (3, 3), activation='relu', padding='same'))\n",
        "model.add(layers.MaxPooling2D((2, 2), strides=(2,2)))\n",
        "model.add(layers.Flatten())\n",
        "model.add(layers.Dense(4096, activation='relu'))\n",
        "model.add(layers.Dense(4096, activation='relu'))\n",
        "model.add(layers.Dense(10, activation='softmax'))\n",
        "model.summary()"
      ]
    },
    {
      "attachments": {},
      "cell_type": "markdown",
      "metadata": {},
      "source": [
        "<center>\n",
        "    <img src = \"image/vgg16.jpeg\">\n",
        "</center>"
      ]
    },
    {
      "cell_type": "code",
      "execution_count": 4,
      "metadata": {
        "colab": {
          "base_uri": "https://localhost:8080/"
        },
        "id": "7UA7Mexs3Bd1",
        "outputId": "f9d97bcf-df78-4b0a-f98c-cd6b92303778"
      },
      "outputs": [],
      "source": [
        "model.compile(optimizer=tf.keras.optimizers.Adam(learning_rate=0.00001),\n",
        "                loss='sparse_categorical_crossentropy',\n",
        "                metrics=['accuracy'])\n",
        "\n",
        "vgg16 = model.fit(train_images, train_labels, epochs=100\n",
        "                    , validation_data=(test_images, test_labels))"
      ]
    },
    {
      "cell_type": "code",
      "execution_count": null,
      "metadata": {
        "colab": {
          "base_uri": "https://localhost:8080/",
          "height": 312
        },
        "id": "8lzN6JyV3Bd1",
        "outputId": "ead9c3c7-df79-4f08-94b9-88b4d29a1475"
      },
      "outputs": [],
      "source": [
        "plt.plot(vgg16.history['accuracy'], label='accuracy')\n",
        "plt.plot(vgg16.history['val_accuracy'], label = 'val_accuracy')\n",
        "plt.title('VGG-16')\n",
        "plt.xlabel('Epoch')\n",
        "plt.ylabel('Accuracy')\n",
        "plt.ylim([0, 1])\n",
        "plt.legend(loc='lower right')\n",
        "plt.savefig('VGG16.png')\n",
        "\n",
        "test_loss, test_acc = model.evaluate(test_images,  test_labels, verbose=2)"
      ]
    }
  ],
  "metadata": {
    "accelerator": "GPU",
    "colab": {
      "provenance": []
    },
    "gpuClass": "standard",
    "kernelspec": {
      "display_name": "tensorflow",
      "language": "python",
      "name": "python3"
    },
    "language_info": {
      "codemirror_mode": {
        "name": "ipython",
        "version": 3
      },
      "file_extension": ".py",
      "mimetype": "text/x-python",
      "name": "python",
      "nbconvert_exporter": "python",
      "pygments_lexer": "ipython3",
      "version": "3.8.11"
    },
    "orig_nbformat": 4,
    "vscode": {
      "interpreter": {
        "hash": "230ee206a7624a0c86d8635a6f3a2c04b44b860fc90487f45a251c129fc7b1d2"
      }
    }
  },
  "nbformat": 4,
  "nbformat_minor": 0
}
