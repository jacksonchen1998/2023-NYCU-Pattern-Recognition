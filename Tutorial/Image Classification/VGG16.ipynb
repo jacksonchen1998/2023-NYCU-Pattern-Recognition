{
  "cells": [
    {
      "cell_type": "code",
      "execution_count": 42,
      "metadata": {
        "id": "JLLIwnVJgph1"
      },
      "outputs": [],
      "source": [
        "import matplotlib.pyplot as plt\n",
        "import numpy as np\n",
        "import PIL\n",
        "import tensorflow as tf\n",
        "\n",
        "from tensorflow import keras\n",
        "from tensorflow.keras import layers\n",
        "from tensorflow.keras.models import Sequential\n",
        "import warnings\n",
        "\n",
        "warnings.filterwarnings('ignore')"
      ]
    },
    {
      "cell_type": "code",
      "execution_count": 43,
      "metadata": {
        "id": "KuzaErnUgph2"
      },
      "outputs": [],
      "source": [
        "import pathlib\n",
        "dataset_url = \"https://storage.googleapis.com/download.tensorflow.org/example_images/flower_photos.tgz\"\n",
        "data_dir = tf.keras.utils.get_file('flower_photos', origin=dataset_url, untar=True)\n",
        "data_dir = pathlib.Path(data_dir)"
      ]
    },
    {
      "cell_type": "code",
      "execution_count": 44,
      "metadata": {
        "id": "vKJMfp_Wgph3"
      },
      "outputs": [],
      "source": [
        "batch_size = 32\n",
        "img_height = 180\n",
        "img_width = 180"
      ]
    },
    {
      "cell_type": "code",
      "execution_count": 45,
      "metadata": {
        "id": "xoYZGM3Dgph3",
        "outputId": "de65c611-b169-407a-81ce-195ed37e8d08",
        "colab": {
          "base_uri": "https://localhost:8080/"
        }
      },
      "outputs": [
        {
          "output_type": "stream",
          "name": "stdout",
          "text": [
            "Found 3670 files belonging to 5 classes.\n",
            "Using 2936 files for training.\n"
          ]
        }
      ],
      "source": [
        "train_ds = tf.keras.utils.image_dataset_from_directory(\n",
        "  data_dir,\n",
        "  validation_split=0.2,\n",
        "  subset=\"training\",\n",
        "  seed=123,\n",
        "  image_size=(img_height, img_width),\n",
        "  batch_size=batch_size)"
      ]
    },
    {
      "cell_type": "code",
      "execution_count": 46,
      "metadata": {
        "id": "uSi_XST8gph3",
        "outputId": "fc418a8c-54a6-4685-e75e-750b6b49ac22",
        "colab": {
          "base_uri": "https://localhost:8080/"
        }
      },
      "outputs": [
        {
          "output_type": "stream",
          "name": "stdout",
          "text": [
            "Found 3670 files belonging to 5 classes.\n",
            "Using 734 files for validation.\n"
          ]
        }
      ],
      "source": [
        "val_ds = tf.keras.utils.image_dataset_from_directory(\n",
        "  data_dir,\n",
        "  validation_split=0.2,\n",
        "  subset=\"validation\",\n",
        "  seed=123,\n",
        "  image_size=(img_height, img_width),\n",
        "  batch_size=batch_size)"
      ]
    },
    {
      "cell_type": "code",
      "execution_count": 47,
      "metadata": {
        "id": "4X_zxD1zgph3",
        "outputId": "c614ba8a-1ab1-4aae-bb06-c6d25154615a",
        "colab": {
          "base_uri": "https://localhost:8080/"
        }
      },
      "outputs": [
        {
          "output_type": "stream",
          "name": "stdout",
          "text": [
            "['daisy', 'dandelion', 'roses', 'sunflowers', 'tulips']\n"
          ]
        }
      ],
      "source": [
        "class_names = train_ds.class_names\n",
        "print(class_names)"
      ]
    },
    {
      "cell_type": "code",
      "execution_count": 48,
      "metadata": {
        "id": "jmdjkKpRgph3"
      },
      "outputs": [],
      "source": [
        "AUTOTUNE = tf.data.AUTOTUNE\n",
        "\n",
        "train_ds = train_ds.cache().shuffle(1000).prefetch(buffer_size=AUTOTUNE)\n",
        "val_ds = val_ds.cache().prefetch(buffer_size=AUTOTUNE)"
      ]
    },
    {
      "cell_type": "code",
      "execution_count": 49,
      "metadata": {
        "id": "AKRuUCo5gph4",
        "outputId": "c801b1ab-1f29-4280-eaf4-d4bd9bc10afe",
        "colab": {
          "base_uri": "https://localhost:8080/"
        }
      },
      "outputs": [
        {
          "output_type": "stream",
          "name": "stdout",
          "text": [
            "0.0 0.99028325\n"
          ]
        }
      ],
      "source": [
        "normalization_layer = layers.Rescaling(1./255)\n",
        "normalized_ds = train_ds.map(lambda x, y: (normalization_layer(x), y))\n",
        "image_batch, labels_batch = next(iter(normalized_ds))\n",
        "first_image = image_batch[0]\n",
        "# Notice the pixel values are now in `[0,1]`.\n",
        "print(np.min(first_image), np.max(first_image))"
      ]
    },
    {
      "cell_type": "code",
      "execution_count": 50,
      "metadata": {
        "id": "TuUDI0Wagph4",
        "outputId": "b12eb68f-a721-4832-ff55-49e77c1675a7",
        "colab": {
          "base_uri": "https://localhost:8080/"
        }
      },
      "outputs": [
        {
          "output_type": "stream",
          "name": "stdout",
          "text": [
            "Model: \"sequential_4\"\n",
            "_________________________________________________________________\n",
            " Layer (type)                Output Shape              Param #   \n",
            "=================================================================\n",
            " rescaling_9 (Rescaling)     (None, 180, 180, 3)       0         \n",
            "                                                                 \n",
            " conv2d_52 (Conv2D)          (None, 180, 180, 64)      1792      \n",
            "                                                                 \n",
            " conv2d_53 (Conv2D)          (None, 180, 180, 64)      36928     \n",
            "                                                                 \n",
            " max_pooling2d_20 (MaxPoolin  (None, 90, 90, 64)       0         \n",
            " g2D)                                                            \n",
            "                                                                 \n",
            " conv2d_54 (Conv2D)          (None, 90, 90, 128)       73856     \n",
            "                                                                 \n",
            " conv2d_55 (Conv2D)          (None, 90, 90, 128)       147584    \n",
            "                                                                 \n",
            " max_pooling2d_21 (MaxPoolin  (None, 45, 45, 128)      0         \n",
            " g2D)                                                            \n",
            "                                                                 \n",
            " conv2d_56 (Conv2D)          (None, 45, 45, 256)       295168    \n",
            "                                                                 \n",
            " conv2d_57 (Conv2D)          (None, 45, 45, 256)       590080    \n",
            "                                                                 \n",
            " conv2d_58 (Conv2D)          (None, 45, 45, 256)       590080    \n",
            "                                                                 \n",
            " max_pooling2d_22 (MaxPoolin  (None, 22, 22, 256)      0         \n",
            " g2D)                                                            \n",
            "                                                                 \n",
            " conv2d_59 (Conv2D)          (None, 22, 22, 512)       1180160   \n",
            "                                                                 \n",
            " conv2d_60 (Conv2D)          (None, 22, 22, 512)       2359808   \n",
            "                                                                 \n",
            " conv2d_61 (Conv2D)          (None, 22, 22, 512)       2359808   \n",
            "                                                                 \n",
            " max_pooling2d_23 (MaxPoolin  (None, 11, 11, 512)      0         \n",
            " g2D)                                                            \n",
            "                                                                 \n",
            " conv2d_62 (Conv2D)          (None, 11, 11, 512)       2359808   \n",
            "                                                                 \n",
            " conv2d_63 (Conv2D)          (None, 11, 11, 512)       2359808   \n",
            "                                                                 \n",
            " conv2d_64 (Conv2D)          (None, 11, 11, 512)       2359808   \n",
            "                                                                 \n",
            " max_pooling2d_24 (MaxPoolin  (None, 5, 5, 512)        0         \n",
            " g2D)                                                            \n",
            "                                                                 \n",
            " flatten_4 (Flatten)         (None, 12800)             0         \n",
            "                                                                 \n",
            " dense_12 (Dense)            (None, 4096)              52432896  \n",
            "                                                                 \n",
            " dense_13 (Dense)            (None, 4096)              16781312  \n",
            "                                                                 \n",
            " dense_14 (Dense)            (None, 5)                 20485     \n",
            "                                                                 \n",
            "=================================================================\n",
            "Total params: 83,949,381\n",
            "Trainable params: 83,949,381\n",
            "Non-trainable params: 0\n",
            "_________________________________________________________________\n"
          ]
        }
      ],
      "source": [
        "num_classes = len(class_names)\n",
        "\n",
        "# VGG16\n",
        "\n",
        "model = Sequential([\n",
        "    layers.experimental.preprocessing.Rescaling(1./255, input_shape=(img_height, img_width, 3)),\n",
        "    layers.Conv2D(64, 3, padding='same', activation='relu'),\n",
        "    layers.Conv2D(64, 3, padding='same', activation='relu'),\n",
        "    layers.MaxPooling2D(),\n",
        "    layers.Conv2D(128, 3, padding='same', activation='relu'),\n",
        "    layers.Conv2D(128, 3, padding='same', activation='relu'),\n",
        "    layers.MaxPooling2D(),\n",
        "    layers.Conv2D(256, 3, padding='same', activation='relu'),\n",
        "    layers.Conv2D(256, 3, padding='same', activation='relu'),\n",
        "    layers.Conv2D(256, 3, padding='same', activation='relu'),\n",
        "    layers.MaxPooling2D(),\n",
        "    layers.Conv2D(512, 3, padding='same', activation='relu'),\n",
        "    layers.Conv2D(512, 3, padding='same', activation='relu'),\n",
        "    layers.Conv2D(512, 3, padding='same', activation='relu'),\n",
        "    layers.MaxPooling2D(),\n",
        "    layers.Conv2D(512, 3, padding='same', activation='relu'),\n",
        "    layers.Conv2D(512, 3, padding='same', activation='relu'),\n",
        "    layers.Conv2D(512, 3, padding='same', activation='relu'),\n",
        "    layers.MaxPooling2D(),\n",
        "    layers.Flatten(),\n",
        "    layers.Dense(4096, activation='relu'),\n",
        "    layers.Dense(4096, activation='relu'),\n",
        "    layers.Dense(num_classes)\n",
        "])\n",
        "\n",
        "model.compile(optimizer=tf.keras.optimizers.Adam(learning_rate=0.00001),\n",
        "                loss=tf.keras.losses.SparseCategoricalCrossentropy(from_logits=True),\n",
        "                metrics=['accuracy'])\n",
        "\n",
        "model.summary()"
      ]
    },
    {
      "cell_type": "code",
      "execution_count": 51,
      "metadata": {
        "id": "QJBNGf7dgph5",
        "outputId": "03cebce0-81b6-40c5-d5f3-282587be48b7",
        "colab": {
          "base_uri": "https://localhost:8080/"
        }
      },
      "outputs": [
        {
          "output_type": "stream",
          "name": "stdout",
          "text": [
            "Epoch 1/10\n",
            "92/92 [==============================] - 38s 349ms/step - loss: 1.5727 - accuracy: 0.2650 - val_loss: 1.4460 - val_accuracy: 0.3365\n",
            "Epoch 2/10\n",
            "92/92 [==============================] - 31s 341ms/step - loss: 1.3914 - accuracy: 0.3770 - val_loss: 1.3159 - val_accuracy: 0.4619\n",
            "Epoch 3/10\n",
            "92/92 [==============================] - 31s 334ms/step - loss: 1.2066 - accuracy: 0.4724 - val_loss: 1.1705 - val_accuracy: 0.5218\n",
            "Epoch 4/10\n",
            "92/92 [==============================] - 32s 346ms/step - loss: 1.1200 - accuracy: 0.5249 - val_loss: 1.0803 - val_accuracy: 0.5763\n",
            "Epoch 5/10\n",
            "92/92 [==============================] - 31s 341ms/step - loss: 1.0698 - accuracy: 0.5538 - val_loss: 1.0413 - val_accuracy: 0.5586\n",
            "Epoch 6/10\n",
            "92/92 [==============================] - 31s 341ms/step - loss: 1.0305 - accuracy: 0.5916 - val_loss: 1.0183 - val_accuracy: 0.5695\n",
            "Epoch 7/10\n",
            "92/92 [==============================] - 32s 347ms/step - loss: 1.0030 - accuracy: 0.6052 - val_loss: 1.0255 - val_accuracy: 0.5749\n",
            "Epoch 8/10\n",
            "92/92 [==============================] - 31s 337ms/step - loss: 0.9695 - accuracy: 0.6151 - val_loss: 1.0371 - val_accuracy: 0.5708\n",
            "Epoch 9/10\n",
            "92/92 [==============================] - 32s 346ms/step - loss: 0.9504 - accuracy: 0.6185 - val_loss: 0.9843 - val_accuracy: 0.5804\n",
            "Epoch 10/10\n",
            "92/92 [==============================] - 32s 345ms/step - loss: 0.9131 - accuracy: 0.6454 - val_loss: 0.9377 - val_accuracy: 0.5981\n"
          ]
        }
      ],
      "source": [
        "epochs=10\n",
        "history = model.fit(\n",
        "  train_ds,\n",
        "  validation_data=val_ds,\n",
        "  epochs=epochs\n",
        ")"
      ]
    },
    {
      "cell_type": "code",
      "execution_count": 52,
      "metadata": {
        "id": "ZYtMBGaOgph5",
        "outputId": "775630dd-754e-4998-e939-ae354e74ddff",
        "colab": {
          "base_uri": "https://localhost:8080/",
          "height": 499
        }
      },
      "outputs": [
        {
          "output_type": "display_data",
          "data": {
            "text/plain": [
              "<Figure size 576x576 with 2 Axes>"
            ],
            "image/png": "[encoded data removed]"
          },
          "metadata": {
            "needs_background": "light"
          }
        }
      ],
      "source": [
        "acc = history.history['accuracy']\n",
        "val_acc = history.history['val_accuracy']\n",
        "\n",
        "loss = history.history['loss']\n",
        "val_loss = history.history['val_loss']\n",
        "\n",
        "epochs_range = range(epochs)\n",
        "\n",
        "plt.figure(figsize=(8, 8))\n",
        "plt.subplot(1, 2, 1)\n",
        "plt.plot(epochs_range, acc, label='Training Accuracy')\n",
        "plt.plot(epochs_range, val_acc, label='Validation Accuracy')\n",
        "plt.legend(loc='lower right')\n",
        "plt.title('Training and Validation Accuracy')\n",
        "\n",
        "plt.subplot(1, 2, 2)\n",
        "plt.plot(epochs_range, loss, label='Training Loss')\n",
        "plt.plot(epochs_range, val_loss, label='Validation Loss')\n",
        "plt.legend(loc='upper right')\n",
        "plt.title('Training and Validation Loss')\n",
        "plt.show()"
      ]
    }
  ],
  "metadata": {
    "language_info": {
      "name": "python"
    },
    "orig_nbformat": 4,
    "colab": {
      "provenance": []
    },
    "accelerator": "GPU",
    "gpuClass": "standard",
    "kernelspec": {
      "name": "python3",
      "display_name": "Python 3"
    }
  },
  "nbformat": 4,
  "nbformat_minor": 0
}