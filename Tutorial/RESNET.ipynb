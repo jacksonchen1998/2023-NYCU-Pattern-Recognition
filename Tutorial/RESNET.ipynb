{
 "cells": [
  {
   "cell_type": "code",
   "execution_count": null,
   "metadata": {},
   "outputs": [],
   "source": [
    "from tensorflow.keras.datasets import cifar10\n",
    "from tensorflow.keras.layers import Input, Conv2D, BatchNormalization, Activation, AveragePooling2D, Flatten, Dense, Add\n",
    "from tensorflow.keras.regularizers import l2\n",
    "from tensorflow.keras.models import Model\n",
    "from tensorflow.keras.optimizers import Adam\n",
    "\n",
    "# Load the CIFAR-10 dataset\n",
    "(x_train, y_train), (x_test, y_test) = cifar10.load_data()\n",
    "\n",
    "# Convert pixel values to floats in the range [0, 1]\n",
    "x_train = x_train.astype('float32') / 255\n",
    "x_test = x_test.astype('float32') / 255\n",
    "\n",
    "# Subtract the mean pixel value from each image\n",
    "mean_pixel = x_train.mean(axis=(0,1,2), keepdims=True)\n",
    "x_train -= mean_pixel\n",
    "x_test -= mean_pixel\n",
    "\n",
    "# Convert labels to one-hot encoding\n",
    "num_classes = 10\n",
    "y_train = tf.keras.utils.to_categorical(y_train, num_classes)\n",
    "y_test = tf.keras.utils.to_categorical(y_test, num_classes)"
   ]
  },
  {
   "cell_type": "code",
   "execution_count": null,
   "metadata": {},
   "outputs": [],
   "source": [
    "# Define the ResNet block\n",
    "def resnet_block(inputs, filters, stride, reg_factor):\n",
    "    x = Conv2D(filters, (3, 3), strides=stride, padding='same', kernel_regularizer=l2(reg_factor))(inputs)\n",
    "    x = BatchNormalization()(x)\n",
    "    x = Activation('relu')(x)\n",
    "    x = Conv2D(filters, (3, 3), strides=1, padding='same', kernel_regularizer=l2(reg_factor))(x)\n",
    "    x = BatchNormalization()(x)\n",
    "    shortcut = inputs\n",
    "    if stride != 1 or inputs.shape[-1] != filters:\n",
    "        shortcut = Conv2D(filters, (1, 1), strides=stride, padding='valid', kernel_regularizer=l2(reg_factor))(inputs)\n",
    "        shortcut = BatchNormalization()(shortcut)\n",
    "    x = Add()([x, shortcut])\n",
    "    x = Activation('relu')(x)\n",
    "    return x\n",
    "\n",
    "# Define the ResNet model\n",
    "inputs = Input(shape=(32, 32, 3))\n",
    "x = Conv2D(64, (3, 3), strides=1, padding='same', kernel_regularizer=l2(1e-4))(inputs)\n",
    "x = BatchNormalization()(x)\n",
    "x = Activation('relu')(x)\n",
    "x = resnet_block(x, 64, 1, 1e-4)\n",
    "x = resnet_block(x, 64, 1, 1e-4)\n",
    "x = resnet_block(x, 64, 1, 1e-4)\n",
    "x = resnet_block(x, 128, 2, 1e-4)\n",
    "x = resnet_block(x, 128, 1, 1e-4)\n",
    "x = resnet_block(x, 128, 1, 1e-4)\n",
    "x = resnet_block(x, 256, 2, 1e-4)\n",
    "x = resnet_block(x, 256, 1, 1e-4)\n",
    "x = resnet_block(x, 256, 1, 1e-4)\n",
    "x = AveragePooling2D(pool_size=(8, 8))(x)\n",
    "x = Flatten()(x)\n",
    "outputs = Dense(num_classes, activation='softmax')(x)\n",
    "model = Model(inputs=inputs, outputs=outputs)\n",
    "\n",
    "# Compile the model\n",
    "model.compile(optimizer=Adam(lr=0.00001), loss='categorical_crossentropy', metrics=['accuracy'])\n",
    "\n",
    "# Train the model\n",
    "resnet = model.fit(x_train, y_train, batch_size=64, epochs=10, validation_data=(x_test, y_test))\n"
   ]
  },
  {
   "cell_type": "code",
   "execution_count": null,
   "metadata": {},
   "outputs": [],
   "source": [
    "plt.plot(resnet.history['accuracy'], label='accuracy')\n",
    "plt.plot(resnet.history['val_accuracy'], label = 'val_accuracy')\n",
    "plt.title('ResNet')\n",
    "plt.xlabel('Epoch')\n",
    "plt.ylabel('Accuracy')\n",
    "plt.ylim([0, 1])\n",
    "plt.legend(loc='lower right')\n",
    "\n",
    "test_loss, test_acc = model.evaluate(test_images,  test_labels, verbose=2)"
   ]
  }
 ],
 "metadata": {
  "kernelspec": {
   "display_name": "Python 3",
   "language": "python",
   "name": "python3"
  },
  "language_info": {
   "name": "python",
   "version": "3.10.6"
  },
  "orig_nbformat": 4,
  "vscode": {
   "interpreter": {
    "hash": "916dbcbb3f70747c44a77c7bcd40155683ae19c65e1c03b4aa3499c5328201f1"
   }
  }
 },
 "nbformat": 4,
 "nbformat_minor": 2
}
